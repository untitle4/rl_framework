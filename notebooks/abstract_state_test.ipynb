{
 "cells": [
  {
   "cell_type": "code",
   "execution_count": 2,
   "id": "e2e356d6",
   "metadata": {},
   "outputs": [],
   "source": [
    "length_range = [20, 60]\n",
    "actions = [\"K\", \"I\", \"D\"]\n",
    "interval = 5"
   ]
  },
  {
   "cell_type": "markdown",
   "id": "c3520d08",
   "metadata": {},
   "source": [
    "In order to reduce state space, we could contrain the total time to 90 if needed"
   ]
  },
  {
   "cell_type": "code",
   "execution_count": null,
   "id": "3f648d3d",
   "metadata": {},
   "outputs": [],
   "source": [
    "init = (20, 20, 20)\n",
    "\n",
    "total_step = int((length_range[1] - length_range[0]) / interval)\n",
    "\n"
   ]
  }
 ],
 "metadata": {
  "kernelspec": {
   "display_name": "Python 3 (ipykernel)",
   "language": "python",
   "name": "python3"
  },
  "language_info": {
   "codemirror_mode": {
    "name": "ipython",
    "version": 3
   },
   "file_extension": ".py",
   "mimetype": "text/x-python",
   "name": "python",
   "nbconvert_exporter": "python",
   "pygments_lexer": "ipython3",
   "version": "3.10.6"
  }
 },
 "nbformat": 4,
 "nbformat_minor": 5
}
