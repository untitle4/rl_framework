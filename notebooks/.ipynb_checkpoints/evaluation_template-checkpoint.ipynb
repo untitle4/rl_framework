{
 "cells": [
  {
   "cell_type": "code",
   "execution_count": 111,
   "id": "21cb09e2",
   "metadata": {},
   "outputs": [],
   "source": [
    "import sys\n",
    "import os\n",
    "\n",
    "sys.path.append(os.path.dirname(os.getcwd()))\n",
    "\n",
    "import pandas as pd\n",
    "from learn.utils import FileHandler, get_file_suffix_map"
   ]
  },
  {
   "cell_type": "code",
   "execution_count": 112,
   "id": "42345a85",
   "metadata": {},
   "outputs": [],
   "source": [
    "df = pd.read_csv('../learning_out/intersection_0/action_hist.csv')"
   ]
  },
  {
   "cell_type": "code",
   "execution_count": 113,
   "id": "918b4ba3",
   "metadata": {},
   "outputs": [
    {
     "data": {
      "text/html": [
       "<div>\n",
       "<style scoped>\n",
       "    .dataframe tbody tr th:only-of-type {\n",
       "        vertical-align: middle;\n",
       "    }\n",
       "\n",
       "    .dataframe tbody tr th {\n",
       "        vertical-align: top;\n",
       "    }\n",
       "\n",
       "    .dataframe thead th {\n",
       "        text-align: right;\n",
       "    }\n",
       "</style>\n",
       "<table border=\"1\" class=\"dataframe\">\n",
       "  <thead>\n",
       "    <tr style=\"text-align: right;\">\n",
       "      <th></th>\n",
       "      <th>timestamp</th>\n",
       "      <th>prev_state</th>\n",
       "      <th>prev_action</th>\n",
       "      <th>curr_state</th>\n",
       "      <th>curr_action</th>\n",
       "      <th>avg_lane_queueing_length</th>\n",
       "      <th>avg_lane_queueing_time</th>\n",
       "      <th>prev_avg_lane_queueing_length</th>\n",
       "      <th>prev_avg_lane_queueing_time</th>\n",
       "      <th>reward</th>\n",
       "    </tr>\n",
       "  </thead>\n",
       "  <tbody>\n",
       "    <tr>\n",
       "      <th>0</th>\n",
       "      <td>1666335268</td>\n",
       "      <td>NaN</td>\n",
       "      <td>NaN</td>\n",
       "      <td>0</td>\n",
       "      <td>K</td>\n",
       "      <td>100.000000</td>\n",
       "      <td>100.000000</td>\n",
       "      <td>101.000000</td>\n",
       "      <td>101.000000</td>\n",
       "      <td>2</td>\n",
       "    </tr>\n",
       "    <tr>\n",
       "      <th>1</th>\n",
       "      <td>1666335272</td>\n",
       "      <td>0.0</td>\n",
       "      <td>K</td>\n",
       "      <td>0</td>\n",
       "      <td>I</td>\n",
       "      <td>252.673685</td>\n",
       "      <td>66.950415</td>\n",
       "      <td>100.000000</td>\n",
       "      <td>100.000000</td>\n",
       "      <td>1</td>\n",
       "    </tr>\n",
       "    <tr>\n",
       "      <th>2</th>\n",
       "      <td>1666335276</td>\n",
       "      <td>0.0</td>\n",
       "      <td>I</td>\n",
       "      <td>1</td>\n",
       "      <td>K</td>\n",
       "      <td>256.167312</td>\n",
       "      <td>65.017980</td>\n",
       "      <td>252.673685</td>\n",
       "      <td>252.673685</td>\n",
       "      <td>1</td>\n",
       "    </tr>\n",
       "    <tr>\n",
       "      <th>3</th>\n",
       "      <td>1666335279</td>\n",
       "      <td>1.0</td>\n",
       "      <td>K</td>\n",
       "      <td>1</td>\n",
       "      <td>K</td>\n",
       "      <td>231.815009</td>\n",
       "      <td>61.144274</td>\n",
       "      <td>256.167312</td>\n",
       "      <td>256.167312</td>\n",
       "      <td>2</td>\n",
       "    </tr>\n",
       "    <tr>\n",
       "      <th>4</th>\n",
       "      <td>1666335282</td>\n",
       "      <td>1.0</td>\n",
       "      <td>K</td>\n",
       "      <td>1</td>\n",
       "      <td>I</td>\n",
       "      <td>227.636789</td>\n",
       "      <td>53.929559</td>\n",
       "      <td>231.815009</td>\n",
       "      <td>231.815009</td>\n",
       "      <td>2</td>\n",
       "    </tr>\n",
       "    <tr>\n",
       "      <th>...</th>\n",
       "      <td>...</td>\n",
       "      <td>...</td>\n",
       "      <td>...</td>\n",
       "      <td>...</td>\n",
       "      <td>...</td>\n",
       "      <td>...</td>\n",
       "      <td>...</td>\n",
       "      <td>...</td>\n",
       "      <td>...</td>\n",
       "      <td>...</td>\n",
       "    </tr>\n",
       "    <tr>\n",
       "      <th>1995</th>\n",
       "      <td>1666340860</td>\n",
       "      <td>3.0</td>\n",
       "      <td>D</td>\n",
       "      <td>2</td>\n",
       "      <td>D</td>\n",
       "      <td>75.987577</td>\n",
       "      <td>45.393124</td>\n",
       "      <td>91.685708</td>\n",
       "      <td>91.685708</td>\n",
       "      <td>2</td>\n",
       "    </tr>\n",
       "    <tr>\n",
       "      <th>1996</th>\n",
       "      <td>1666340862</td>\n",
       "      <td>2.0</td>\n",
       "      <td>D</td>\n",
       "      <td>1</td>\n",
       "      <td>D</td>\n",
       "      <td>125.247033</td>\n",
       "      <td>47.050881</td>\n",
       "      <td>75.987577</td>\n",
       "      <td>75.987577</td>\n",
       "      <td>1</td>\n",
       "    </tr>\n",
       "    <tr>\n",
       "      <th>1997</th>\n",
       "      <td>1666340865</td>\n",
       "      <td>1.0</td>\n",
       "      <td>D</td>\n",
       "      <td>0</td>\n",
       "      <td>K</td>\n",
       "      <td>151.132847</td>\n",
       "      <td>52.377700</td>\n",
       "      <td>125.247033</td>\n",
       "      <td>125.247033</td>\n",
       "      <td>1</td>\n",
       "    </tr>\n",
       "    <tr>\n",
       "      <th>1998</th>\n",
       "      <td>1666340868</td>\n",
       "      <td>0.0</td>\n",
       "      <td>K</td>\n",
       "      <td>0</td>\n",
       "      <td>K</td>\n",
       "      <td>140.731592</td>\n",
       "      <td>47.683701</td>\n",
       "      <td>151.132847</td>\n",
       "      <td>151.132847</td>\n",
       "      <td>2</td>\n",
       "    </tr>\n",
       "    <tr>\n",
       "      <th>1999</th>\n",
       "      <td>1666340870</td>\n",
       "      <td>0.0</td>\n",
       "      <td>K</td>\n",
       "      <td>0</td>\n",
       "      <td>K</td>\n",
       "      <td>140.731592</td>\n",
       "      <td>47.683701</td>\n",
       "      <td>140.731592</td>\n",
       "      <td>140.731592</td>\n",
       "      <td>1</td>\n",
       "    </tr>\n",
       "  </tbody>\n",
       "</table>\n",
       "<p>2000 rows × 10 columns</p>\n",
       "</div>"
      ],
      "text/plain": [
       "       timestamp  prev_state prev_action  curr_state curr_action  \\\n",
       "0     1666335268         NaN         NaN           0           K   \n",
       "1     1666335272         0.0           K           0           I   \n",
       "2     1666335276         0.0           I           1           K   \n",
       "3     1666335279         1.0           K           1           K   \n",
       "4     1666335282         1.0           K           1           I   \n",
       "...          ...         ...         ...         ...         ...   \n",
       "1995  1666340860         3.0           D           2           D   \n",
       "1996  1666340862         2.0           D           1           D   \n",
       "1997  1666340865         1.0           D           0           K   \n",
       "1998  1666340868         0.0           K           0           K   \n",
       "1999  1666340870         0.0           K           0           K   \n",
       "\n",
       "      avg_lane_queueing_length  avg_lane_queueing_time  \\\n",
       "0                   100.000000              100.000000   \n",
       "1                   252.673685               66.950415   \n",
       "2                   256.167312               65.017980   \n",
       "3                   231.815009               61.144274   \n",
       "4                   227.636789               53.929559   \n",
       "...                        ...                     ...   \n",
       "1995                 75.987577               45.393124   \n",
       "1996                125.247033               47.050881   \n",
       "1997                151.132847               52.377700   \n",
       "1998                140.731592               47.683701   \n",
       "1999                140.731592               47.683701   \n",
       "\n",
       "      prev_avg_lane_queueing_length  prev_avg_lane_queueing_time  reward  \n",
       "0                        101.000000                   101.000000       2  \n",
       "1                        100.000000                   100.000000       1  \n",
       "2                        252.673685                   252.673685       1  \n",
       "3                        256.167312                   256.167312       2  \n",
       "4                        231.815009                   231.815009       2  \n",
       "...                             ...                          ...     ...  \n",
       "1995                      91.685708                    91.685708       2  \n",
       "1996                      75.987577                    75.987577       1  \n",
       "1997                     125.247033                   125.247033       1  \n",
       "1998                     151.132847                   151.132847       2  \n",
       "1999                     140.731592                   140.731592       1  \n",
       "\n",
       "[2000 rows x 10 columns]"
      ]
     },
     "execution_count": 113,
     "metadata": {},
     "output_type": "execute_result"
    }
   ],
   "source": [
    "df"
   ]
  },
  {
   "cell_type": "code",
   "execution_count": 114,
   "id": "d80e9502",
   "metadata": {},
   "outputs": [],
   "source": [
    "target = df[1:][['avg_lane_queueing_length', 'avg_lane_queueing_time']]"
   ]
  },
  {
   "cell_type": "code",
   "execution_count": 118,
   "id": "ef1c75cf",
   "metadata": {},
   "outputs": [],
   "source": [
    "target['roll_lane_length'] = target['avg_lane_queueing_length'].rolling(500).mean()\n",
    "target['roll_waiting_time'] = target['avg_lane_queueing_time'].rolling(500).mean()"
   ]
  },
  {
   "cell_type": "code",
   "execution_count": 119,
   "id": "d9986b44",
   "metadata": {},
   "outputs": [
    {
     "data": {
      "text/plain": [
       "<AxesSubplot: >"
      ]
     },
     "execution_count": 119,
     "metadata": {},
     "output_type": "execute_result"
    },
    {
     "data": {
      "image/png": "[encoded data removed]",
      "text/plain": [
       "<Figure size 640x480 with 1 Axes>"
      ]
     },
     "metadata": {},
     "output_type": "display_data"
    }
   ],
   "source": [
    "target['roll_lane_length'].plot()"
   ]
  },
  {
   "cell_type": "code",
   "execution_count": 120,
   "id": "7f612e8b",
   "metadata": {},
   "outputs": [
    {
     "data": {
      "text/plain": [
       "<AxesSubplot: >"
      ]
     },
     "execution_count": 120,
     "metadata": {},
     "output_type": "execute_result"
    },
    {
     "data": {
      "image/png": "[encoded data removed]",
      "text/plain": [
       "<Figure size 640x480 with 1 Axes>"
      ]
     },
     "metadata": {},
     "output_type": "display_data"
    }
   ],
   "source": [
    "target['roll_waiting_time'].plot()"
   ]
  },
  {
   "cell_type": "markdown",
   "id": "16ec7c87",
   "metadata": {},
   "source": [
    "This approach is not robust and stable becase each choice of the idividual light might affect each other"
   ]
  },
  {
   "cell_type": "code",
   "execution_count": null,
   "id": "d2aafe3d",
   "metadata": {},
   "outputs": [],
   "source": []
  }
 ],
 "metadata": {
  "kernelspec": {
   "display_name": "Python 3 (ipykernel)",
   "language": "python",
   "name": "python3"
  },
  "language_info": {
   "codemirror_mode": {
    "name": "ipython",
    "version": 3
   },
   "file_extension": ".py",
   "mimetype": "text/x-python",
   "name": "python",
   "nbconvert_exporter": "python",
   "pygments_lexer": "ipython3",
   "version": "3.10.6"
  }
 },
 "nbformat": 4,
 "nbformat_minor": 5
}
