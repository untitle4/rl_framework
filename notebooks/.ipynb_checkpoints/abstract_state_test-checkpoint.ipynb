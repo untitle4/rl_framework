{
 "cells": [
  {
   "cell_type": "code",
   "execution_count": 1,
   "id": "e2e356d6",
   "metadata": {},
   "outputs": [],
   "source": [
    "length_range = [20, 60]\n",
    "actions = [\"K\", \"I\", \"D\"]\n",
    "interval = 5"
   ]
  },
  {
   "cell_type": "markdown",
   "id": "c3520d08",
   "metadata": {},
   "source": [
    "In order to reduce state space, we could contrain the total time to 90 if needed"
   ]
  },
  {
   "cell_type": "code",
   "execution_count": 2,
   "id": "3f648d3d",
   "metadata": {},
   "outputs": [
    {
     "name": "stderr",
     "output_type": "stream",
     "text": [
      "IOPub data rate exceeded.\n",
      "The notebook server will temporarily stop sending output\n",
      "to the client in order to avoid crashing it.\n",
      "To change this limit, set the config variable\n",
      "`--NotebookApp.iopub_data_rate_limit`.\n",
      "\n",
      "Current values:\n",
      "NotebookApp.iopub_data_rate_limit=1000000.0 (bytes/sec)\n",
      "NotebookApp.rate_limit_window=3.0 (secs)\n",
      "\n"
     ]
    },
    {
     "ename": "KeyboardInterrupt",
     "evalue": "",
     "output_type": "error",
     "traceback": [
      "\u001b[0;31m---------------------------------------------------------------------------\u001b[0m",
      "\u001b[0;31mKeyboardInterrupt\u001b[0m                         Traceback (most recent call last)",
      "Cell \u001b[0;32mIn [2], line 34\u001b[0m\n\u001b[1;32m     32\u001b[0m queue\u001b[38;5;241m.\u001b[39mappend(new_state)\n\u001b[1;32m     33\u001b[0m visited\u001b[38;5;241m.\u001b[39madd(new_state)\n\u001b[0;32m---> 34\u001b[0m \u001b[38;5;28;43mprint\u001b[39;49m\u001b[43m(\u001b[49m\u001b[43mvisited\u001b[49m\u001b[43m)\u001b[49m\n",
      "File \u001b[0;32m~/miniconda3/envs/rl-env/lib/python3.10/site-packages/ipykernel/iostream.py:528\u001b[0m, in \u001b[0;36mOutStream.write\u001b[0;34m(self, string)\u001b[0m\n\u001b[1;32m    518\u001b[0m \u001b[38;5;28;01mdef\u001b[39;00m \u001b[38;5;21mwrite\u001b[39m(\u001b[38;5;28mself\u001b[39m, string: \u001b[38;5;28mstr\u001b[39m) \u001b[38;5;241m-\u001b[39m\u001b[38;5;241m>\u001b[39m Optional[\u001b[38;5;28mint\u001b[39m]:  \u001b[38;5;66;03m# type:ignore[override]\u001b[39;00m\n\u001b[1;32m    519\u001b[0m     \u001b[38;5;124;03m\"\"\"Write to current stream after encoding if necessary\u001b[39;00m\n\u001b[1;32m    520\u001b[0m \n\u001b[1;32m    521\u001b[0m \u001b[38;5;124;03m    Returns\u001b[39;00m\n\u001b[0;32m   (...)\u001b[0m\n\u001b[1;32m    525\u001b[0m \n\u001b[1;32m    526\u001b[0m \u001b[38;5;124;03m    \"\"\"\u001b[39;00m\n\u001b[0;32m--> 528\u001b[0m     \u001b[38;5;28;01mif\u001b[39;00m \u001b[38;5;129;01mnot\u001b[39;00m \u001b[38;5;28;43misinstance\u001b[39;49m\u001b[43m(\u001b[49m\u001b[43mstring\u001b[49m\u001b[43m,\u001b[49m\u001b[43m \u001b[49m\u001b[38;5;28;43mstr\u001b[39;49m\u001b[43m)\u001b[49m:\n\u001b[1;32m    529\u001b[0m         \u001b[38;5;28;01mraise\u001b[39;00m \u001b[38;5;167;01mTypeError\u001b[39;00m(\u001b[38;5;124mf\u001b[39m\u001b[38;5;124m\"\u001b[39m\u001b[38;5;124mwrite() argument must be str, not \u001b[39m\u001b[38;5;132;01m{\u001b[39;00m\u001b[38;5;28mtype\u001b[39m(string)\u001b[38;5;132;01m}\u001b[39;00m\u001b[38;5;124m\"\u001b[39m)\n\u001b[1;32m    531\u001b[0m     \u001b[38;5;28;01mif\u001b[39;00m \u001b[38;5;28mself\u001b[39m\u001b[38;5;241m.\u001b[39mecho \u001b[38;5;129;01mis\u001b[39;00m \u001b[38;5;129;01mnot\u001b[39;00m \u001b[38;5;28;01mNone\u001b[39;00m:\n",
      "\u001b[0;31mKeyboardInterrupt\u001b[0m: "
     ]
    }
   ],
   "source": [
    "init = (20, 20, 20)\n",
    "\n",
    "state_map = {'1': init}\n",
    "state_inverse_map = {init: '1'}\n",
    "total_step = int((length_range[1] - length_range[0]) / interval)\n",
    "\n",
    "queue = []\n",
    "visited = set()\n",
    "visited.add(init)\n",
    "queue.append(init)\n",
    "\n",
    "delta = {'I': interval, 'K':0, 'D': -interval}\n",
    "while len(queue) > 0:\n",
    "    curr = queue.pop(0)\n",
    "    s1, s2, s3 = curr\n",
    "    for a1 in actions:\n",
    "        if (a1 == 'I' and curr[0] == length_range[1]) or (a1 == 'D' and curr[0] == length_range[0]):\n",
    "            continue\n",
    "        s1 = s1 + delta[a1]\n",
    "        for a2 in actions:\n",
    "            if (a2 == 'I' and curr[1] == length_range[1]) or (a2 == 'D' and curr[1] == length_range[0]):\n",
    "                continue\n",
    "            s2 = s2 + delta[a2]\n",
    "            for a3 in actions:\n",
    "                if (a3 == 'I' and curr[2] == length_range[1]) or (a3 == 'D' and curr[2] == length_range[0]):\n",
    "                    continue\n",
    "                s3 = s3 + delta[a3]\n",
    "                \n",
    "                new_state = (s1, s2, s3)\n",
    "                \n",
    "                if new_state not in visited:\n",
    "                    queue.append(new_state)\n",
    "                    visited.add(new_state)\n",
    "                \n",
    "                \n",
    "                "
   ]
  },
  {
   "cell_type": "code",
   "execution_count": null,
   "id": "33f3399b",
   "metadata": {},
   "outputs": [],
   "source": []
  }
 ],
 "metadata": {
  "kernelspec": {
   "display_name": "Python 3 (ipykernel)",
   "language": "python",
   "name": "python3"
  },
  "language_info": {
   "codemirror_mode": {
    "name": "ipython",
    "version": 3
   },
   "file_extension": ".py",
   "mimetype": "text/x-python",
   "name": "python",
   "nbconvert_exporter": "python",
   "pygments_lexer": "ipython3",
   "version": "3.10.6"
  }
 },
 "nbformat": 4,
 "nbformat_minor": 5
}
